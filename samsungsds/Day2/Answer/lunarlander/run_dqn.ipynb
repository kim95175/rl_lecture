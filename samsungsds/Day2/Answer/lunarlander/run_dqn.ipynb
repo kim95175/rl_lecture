{
 "cells": [
  {
   "cell_type": "code",
   "execution_count": 1,
   "metadata": {
    "cellView": "form",
    "id": "g5xIOIpW8_jC"
   },
   "outputs": [
    {
     "data": {
      "text/plain": [
       "<pyvirtualdisplay.display.Display at 0x7ff47e0825c0>"
      ]
     },
     "execution_count": 1,
     "metadata": {},
     "output_type": "execute_result"
    }
   ],
   "source": [
    "#@title set up virtual display\n",
    "\n",
    "from pyvirtualdisplay import Display\n",
    "\n",
    "display = Display(visible=0, size=(1400, 900))\n",
    "display.start()\n"
   ]
  },
  {
   "cell_type": "markdown",
   "metadata": {
    "id": "gUl_qfOR8JV6"
   },
   "source": [
    "# LunarLander with DQN 실습\n",
    "\n"
   ]
  },
  {
   "cell_type": "markdown",
   "metadata": {
    "id": "QizpiHDh9Fwk"
   },
   "source": [
    "## TODO\n",
    "\n",
    " 이 파일은 학습을 실행하기 위한 코드입니다. \n",
    " 코드를 실행하기 위해서는 아래의 파일에서 다음 함수 #TODO 부분을 수정하셔야 합니다.\n",
    " \n",
    " - dqn_agent.py\n",
    "     step_env()\n",
    "     train()\n",
    " - dqn.py\n",
    "     update()\n",
    " - core/dqn_utils.py \n",
    "     ReplayBuffer.write() : multi-step\n",
    " "
   ]
  },
  {
   "cell_type": "markdown",
   "metadata": {
    "id": "Nii6qk2C9Ipk"
   },
   "source": [
    "## Run DQN"
   ]
  },
  {
   "cell_type": "code",
   "execution_count": 1,
   "metadata": {
    "id": "4t7FUeEG9Dkf"
   },
   "outputs": [],
   "source": [
    "#imports library\n",
    "\n",
    "import os\n",
    "import time\n",
    "\n",
    "from core.dqn_utils import get_env_kwargs\n",
    "\n",
    "from rl_trainer import RL_Trainer\n",
    "from dqn_agent import DQNAgent\n",
    "\n",
    "%load_ext autoreload\n",
    "%autoreload 2"
   ]
  },
  {
   "cell_type": "code",
   "execution_count": 2,
   "metadata": {
    "cellView": "both",
    "id": "2fXlzARJ9i-t"
   },
   "outputs": [],
   "source": [
    "#arguments (hyperparameter)\n",
    "\n",
    "class Args:\n",
    "\n",
    "  def __getitem__(self, key):\n",
    "    return getattr(self, key)\n",
    "\n",
    "  def __setitem__(self, key, val):\n",
    "    setattr(self, key, val)\n",
    "\n",
    "  def __contains__(self, key):\n",
    "    return hasattr(self, key)\n",
    "\n",
    "  env_name = 'LunarLander-v3' \n",
    "  exp_name = '_dqn' \n",
    "\n",
    "  ep_len = 200 \n",
    "  num_timesteps = 150000 # 학습할 총 step 수\n",
    "\n",
    "  #batches and steps\n",
    "  batch_size = 128 # 학습에 사용할 batch_size\n",
    "\n",
    "  num_agent_train_steps_per_iter = 1 # step 마다 network를 update하는 횟수\n",
    "\n",
    "  # Advanced DQN\n",
    "  double_q = False \n",
    "  n_step = 1\n",
    "\n",
    "  save_params = False \n",
    "  no_gpu = False \n",
    "  which_gpu = 0 # 사용할 GPU number\n",
    "  seed = 1 # 환경에 적용되는 seed\n",
    "\n",
    "  video_log_freq =  -1 \n",
    "  scalar_log_freq =  20000\n",
    "\n",
    "\n",
    "args = Args()\n",
    "args['train_batch_size'] = args['batch_size']"
   ]
  },
  {
   "cell_type": "code",
   "execution_count": 3,
   "metadata": {
    "id": "T0cJlp6s-ogO"
   },
   "outputs": [
    {
     "name": "stdout",
     "output_type": "stream",
     "text": [
      "LOGGING TO:  ./data/day2__dqn_LunarLander_seed1_step1\n"
     ]
    }
   ],
   "source": [
    "# 실험 결과 logging 설정\n",
    "data_path = './data'\n",
    "\n",
    "if not (os.path.exists(data_path)):\n",
    "    os.makedirs(data_path)\n",
    "\n",
    "logdir = 'day2_' + args.exp_name + '_LunarLander_seed'+ str(args.seed) + '_step' + str(args.n_step)\n",
    "logdir = os.path.join(data_path, logdir)\n",
    "args['logdir'] = logdir\n",
    "if not(os.path.exists(logdir)):\n",
    "    os.makedirs(logdir)\n",
    "\n",
    "print(\"LOGGING TO: \", logdir)\n"
   ]
  },
  {
   "cell_type": "code",
   "execution_count": 4,
   "metadata": {
    "id": "I525KFRN-42s"
   },
   "outputs": [],
   "source": [
    "#@title Define Q-function trainer\n",
    "\n",
    "class Q_Trainer(object):\n",
    "    def __init__(self, params):\n",
    "        self.params = params\n",
    "\n",
    "        train_args = {\n",
    "            'num_agent_train_steps_per_iter': params['num_agent_train_steps_per_iter'],\n",
    "            'train_batch_size': params['batch_size'],\n",
    "            'double_q': params['double_q'],\n",
    "        }\n",
    "\n",
    "        env_args = get_env_kwargs(params['env_name'])\n",
    "        env_args['num_timesteps'] = params['num_timesteps']\n",
    "\n",
    "        for k, v in env_args.items():\n",
    "          params[k] = v\n",
    "\n",
    "        self.params['agent_class'] = DQNAgent\n",
    "        self.params['agent_params'] = params\n",
    "        self.params['train_batch_size'] = params['batch_size']\n",
    "        self.params['env_wrappers'] = env_args['env_wrappers']\n",
    "\n",
    "        self.rl_trainer = RL_Trainer(self.params)\n",
    "\n",
    "    def run_training_loop(self):\n",
    "        self.rl_trainer.run_training_loop(\n",
    "            self.params['num_timesteps'],\n",
    "            collect_policy = self.rl_trainer.agent.dqn,\n",
    "            eval_policy = self.rl_trainer.agent.dqn,\n",
    "            )"
   ]
  },
  {
   "cell_type": "code",
   "execution_count": null,
   "metadata": {
    "id": "wF4LSRGn-_Cv"
   },
   "outputs": [
    {
     "name": "stdout",
     "output_type": "stream",
     "text": [
      "########################\n",
      "logging outputs to  ./data/day2__dqn_LunarLander_seed1_step1\n",
      "########################\n",
      "<__main__.Args object at 0x7fa48aca5650>\n",
      "GPU not detected. Defaulting to CPU.\n",
      "if 'env_wrappers' in self.params:\n",
      "ob_dim = Box(-inf, inf, (9,), float32), ac_dim = 6\n"
     ]
    },
    {
     "name": "stderr",
     "output_type": "stream",
     "text": [
      "/Users/air/anaconda3/envs/sds/lib/python3.7/site-packages/gym/logger.py:30: UserWarning: \u001b[33mWARN: Box bound precision lowered by casting to float32\u001b[0m\n",
      "  warnings.warn(colorize('%s: %s'%('WARN', msg % args), 'yellow'))\n",
      "/Users/air/anaconda3/envs/sds/lib/python3.7/site-packages/gym/logger.py:30: UserWarning: \u001b[33mWARN: Environment '<class 'envs.lunar_lander.LunarLander'>' has deprecated methods '_step' and '_reset' rather than 'step' and 'reset'. Compatibility code invoked. Set _gym_disable_underscore_compat = True to disable this behavior.\u001b[0m\n",
      "  warnings.warn(colorize('%s: %s'%('WARN', msg % args), 'yellow'))\n"
     ]
    },
    {
     "name": "stdout",
     "output_type": "stream",
     "text": [
      "[ cs285/envs/box2d/lunar_lander ] No display found; rendering is disabled\n"
     ]
    },
    {
     "name": "stderr",
     "output_type": "stream",
     "text": [
      "/Users/air/anaconda3/envs/sds/lib/python3.7/site-packages/gym/logger.py:30: UserWarning: \u001b[33mWARN: Tried to pass invalid video frame, marking as broken: Your frame has data type uint64, but we require uint8 (i.e. RGB values from 0-255).\u001b[0m\n",
      "  warnings.warn(colorize('%s: %s'%('WARN', msg % args), 'yellow'))\n",
      "  0%|          | 0/150000 [00:00<?, ?it/s]"
     ]
    },
    {
     "name": "stdout",
     "output_type": "stream",
     "text": [
      "\n",
      "********** Iteration 0 ************\n",
      "\n",
      "Training agent...\n",
      "\n",
      "Beginning logging procedure...\n",
      "Timestep 1\n",
      "Num Episodes 0\n",
      "mean reward (100 episodes) nan\n",
      "best mean reward -inf\n",
      "running time 0.213690\n"
     ]
    },
    {
     "name": "stderr",
     "output_type": "stream",
     "text": [
      "\r",
      "  0%|          | 87/150000 [00:00<02:53, 862.25it/s]"
     ]
    },
    {
     "name": "stdout",
     "output_type": "stream",
     "text": [
      "\tTrain_EnvstepsSoFar : 1\n",
      "\tTrain_EpisodeSoFar : 0\n",
      "\tNum_Episode_Grounded : 0\n",
      "\tNum_Episode_Grounded_at_site : 0\n",
      "\tTimeSinceStart : 0.21369004249572754\n",
      "Done logging...\n",
      "\n",
      "\n"
     ]
    },
    {
     "name": "stderr",
     "output_type": "stream",
     "text": [
      " 13%|█▎        | 19996/150000 [01:20<11:55, 181.65it/s]"
     ]
    },
    {
     "name": "stdout",
     "output_type": "stream",
     "text": [
      "\n",
      "********** Iteration 20000 ************\n",
      "\n",
      "Training agent...\n",
      "\n",
      "Beginning logging procedure...\n",
      "Timestep 20001\n",
      "Num Episodes 63\n",
      "Grounded rate(%) = 31.75\n",
      "Success rate(%) = 14.29\n",
      "mean reward (100 episodes) -200.171308\n",
      "best mean reward -inf\n",
      "running time 80.805045\n"
     ]
    },
    {
     "name": "stderr",
     "output_type": "stream",
     "text": [
      "\r",
      " 13%|█▎        | 20015/150000 [01:20<14:33, 148.83it/s]"
     ]
    },
    {
     "name": "stdout",
     "output_type": "stream",
     "text": [
      "\tTrain_EnvstepsSoFar : 20001\n",
      "\tTrain_EpisodeSoFar : 63\n",
      "\tNum_Episode_Grounded : 20\n",
      "\tNum_Episode_Grounded_at_site : 9\n",
      "\tTrain_AverageReturn : -200.1713077534291\n",
      "\tTimeSinceStart : 80.80504512786865\n",
      "\tTraining Loss : 0.5748950242996216\n",
      "Done logging...\n",
      "\n",
      "\n"
     ]
    },
    {
     "name": "stderr",
     "output_type": "stream",
     "text": [
      " 27%|██▋       | 39964/150000 [03:16<07:19, 250.11it/s] "
     ]
    },
    {
     "name": "stdout",
     "output_type": "stream",
     "text": [
      "\n",
      "********** Iteration 40000 ************\n",
      "\n",
      "Training agent...\n",
      "\n",
      "Beginning logging procedure...\n",
      "Timestep 40001\n",
      "Num Episodes 83\n",
      "Grounded rate(%) = 24.10\n",
      "Success rate(%) = 10.84\n",
      "mean reward (100 episodes) -186.059463\n",
      "best mean reward -inf\n",
      "running time 196.475263\n"
     ]
    },
    {
     "name": "stderr",
     "output_type": "stream",
     "text": [
      " 27%|██▋       | 40029/150000 [03:16<07:09, 255.91it/s]"
     ]
    },
    {
     "name": "stdout",
     "output_type": "stream",
     "text": [
      "\tTrain_EnvstepsSoFar : 40001\n",
      "\tTrain_EpisodeSoFar : 83\n",
      "\tNum_Episode_Grounded : 20\n",
      "\tNum_Episode_Grounded_at_site : 9\n",
      "\tTrain_AverageReturn : -186.05946255775635\n",
      "\tTimeSinceStart : 196.4752631187439\n",
      "\tTraining Loss : 0.2645529508590698\n",
      "Done logging...\n",
      "\n",
      "\n"
     ]
    },
    {
     "name": "stderr",
     "output_type": "stream",
     "text": [
      " 37%|███▋      | 55174/150000 [04:24<09:43, 162.51it/s] "
     ]
    },
    {
     "name": "stdout",
     "output_type": "stream",
     "text": [
      "[ cs285/envs/box2d/lunar_lander ] No display found; rendering is disabled\n"
     ]
    },
    {
     "name": "stderr",
     "output_type": "stream",
     "text": [
      "/Users/air/anaconda3/envs/sds/lib/python3.7/site-packages/gym/logger.py:30: UserWarning: \u001b[33mWARN: Tried to pass invalid video frame, marking as broken: Your frame has data type uint64, but we require uint8 (i.e. RGB values from 0-255).\u001b[0m\n",
      "  warnings.warn(colorize('%s: %s'%('WARN', msg % args), 'yellow'))\n",
      " 40%|███▉      | 59987/150000 [04:56<11:46, 127.45it/s]"
     ]
    },
    {
     "name": "stdout",
     "output_type": "stream",
     "text": [
      "\n",
      "********** Iteration 60000 ************\n",
      "\n",
      "Training agent...\n",
      "\n",
      "Beginning logging procedure...\n",
      "Timestep 60001\n",
      "Num Episodes 104\n",
      "Grounded rate(%) = 20.19\n",
      "Success rate(%) = 9.62\n",
      "mean reward (100 episodes) -169.460662\n",
      "best mean reward -169.460662\n",
      "running time 296.981511\n"
     ]
    },
    {
     "name": "stderr",
     "output_type": "stream",
     "text": [
      " 40%|████      | 60018/150000 [04:56<10:55, 137.23it/s]"
     ]
    },
    {
     "name": "stdout",
     "output_type": "stream",
     "text": [
      "\tTrain_EnvstepsSoFar : 60001\n",
      "\tTrain_EpisodeSoFar : 104\n",
      "\tNum_Episode_Grounded : 21\n",
      "\tNum_Episode_Grounded_at_site : 10\n",
      "\tTrain_AverageReturn : -169.4606618056566\n",
      "\tTrain_BestReturn : -169.4606618056566\n",
      "\tTimeSinceStart : 296.98151111602783\n",
      "\tTraining Loss : 0.3812907040119171\n",
      "Done logging...\n",
      "\n",
      "\n"
     ]
    },
    {
     "name": "stderr",
     "output_type": "stream",
     "text": [
      " 49%|████▉     | 73607/150000 [06:10<05:24, 235.10it/s]"
     ]
    }
   ],
   "source": [
    "#run training\n",
    "\n",
    "trainer = Q_Trainer(args)\n",
    "trainer.run_training_loop()"
   ]
  },
  {
   "cell_type": "code",
   "execution_count": 8,
   "metadata": {},
   "outputs": [
    {
     "name": "stdout",
     "output_type": "stream",
     "text": [
      "./data/hw3_q3_dqn_LunarLander-v3/gym/*.mp4\n",
      "['./data/hw3_q3_dqn_LunarLander-v3/gym/openaigym.video.0.690.video000000.mp4']\n"
     ]
    },
    {
     "data": {
      "text/html": [
       "<video alt=\"test\" autoplay \n",
       "                loop controls style=\"height: 400px;\">\n",
       "                <source src=\"data:video/mp4;base64,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\" type=\"video/mp4\" />\n",
       "             </video>"
      ],
      "text/plain": [
       "<IPython.core.display.HTML object>"
      ]
     },
     "metadata": {},
     "output_type": "display_data"
    }
   ],
   "source": [
    "from gym.wrappers import Monitor\n",
    "import glob\n",
    "import io\n",
    "import base64\n",
    "from IPython.display import HTML\n",
    "from IPython import display as ipythondisplay\n",
    "\n",
    "## modified from https://colab.research.google.com/drive/1flu31ulJlgiRL1dnN2ir8wGh9p7Zij2t#scrollTo=TCelFzWY9MBI\n",
    "\n",
    "def show_video():\n",
    "  mp4list = glob.glob(logdir + '/gym/*.mp4')\n",
    "  print(logdir + '/gym/*.mp4')\n",
    "  print(mp4list)\n",
    "  if len(mp4list) > 0:\n",
    "    mp4 = mp4list[0]\n",
    "    video = io.open(mp4, 'r+b').read()\n",
    "    encoded = base64.b64encode(video)\n",
    "    ipythondisplay.display(HTML(data='''<video alt=\"test\" autoplay \n",
    "                loop controls style=\"height: 400px;\">\n",
    "                <source src=\"data:video/mp4;base64,{0}\" type=\"video/mp4\" />\n",
    "             </video>'''.format(encoded.decode('ascii'))))\n",
    "  else: \n",
    "    print(\"Could not find video\")\n",
    "\n",
    "show_video()"
   ]
  },
  {
   "cell_type": "code",
   "execution_count": 7,
   "metadata": {
    "id": "_kTH-tXkI-B-"
   },
   "outputs": [
    {
     "data": {
      "text/html": [
       "\n",
       "      <iframe id=\"tensorboard-frame-fa4a7930b01e1bbe\" width=\"100%\" height=\"800\" frameborder=\"0\">\n",
       "      </iframe>\n",
       "      <script>\n",
       "        (function() {\n",
       "          const frame = document.getElementById(\"tensorboard-frame-fa4a7930b01e1bbe\");\n",
       "          const url = new URL(\"/\", window.location);\n",
       "          const port = 6006;\n",
       "          if (port) {\n",
       "            url.port = port;\n",
       "          }\n",
       "          frame.src = url;\n",
       "        })();\n",
       "      </script>\n",
       "    "
      ],
      "text/plain": [
       "<IPython.core.display.HTML object>"
      ]
     },
     "metadata": {},
     "output_type": "display_data"
    }
   ],
   "source": [
    "#@markdown You can visualize your runs with tensorboard from within the notebook\n",
    "\n",
    "## requires tensorflow==2.3.0\n",
    "%load_ext tensorboard\n",
    "%tensorboard --logdir .data/hw3_q3_dqn_LunarLander-v3/"
   ]
  },
  {
   "cell_type": "code",
   "execution_count": 3,
   "metadata": {
    "cellView": "form",
    "id": "gtS9-WsD8QVr"
   },
   "outputs": [
    {
     "name": "stdout",
     "output_type": "stream",
     "text": [
      "The operation couldn’t be completed. Unable to locate a Java Runtime that supports apt.\r\n",
      "Please visit http://www.java.com for information on installing Java.\r\n",
      "\r\n"
     ]
    }
   ],
   "source": [
    "#@title apt install requirements\n",
    "\n",
    "#@markdown Run each section with Shift+Enter\n",
    "\n",
    "#@markdown Double-click on section headers to show code.\n",
    "\n",
    "!apt update \n",
    "!apt install -y --no-install-recommends \\\n",
    "        build-essential \\\n",
    "        curl \\\n",
    "        git \\\n",
    "        gnupg2 \\\n",
    "        make \\\n",
    "        cmake \\\n",
    "        ffmpeg \\\n",
    "        swig \\\n",
    "        libz-dev \\\n",
    "        unzip \\\n",
    "        zlib1g-dev \\\n",
    "        libglfw3 \\\n",
    "        libglfw3-dev \\\n",
    "        libxrandr2 \\\n",
    "        libxinerama-dev \\\n",
    "        libxi6 \\\n",
    "        libxcursor-dev \\\n",
    "        libgl1-mesa-dev \\\n",
    "        libgl1-mesa-glx \\\n",
    "        libglew-dev \\\n",
    "        libosmesa6-dev \\\n",
    "        lsb-release \\\n",
    "        ack-grep \\\n",
    "        patchelf \\\n",
    "        wget \\\n",
    "        xpra \\\n",
    "        xserver-xorg-dev \\\n",
    "        xvfb \\\n",
    "        python-opengl \\\n",
    "        ffmpeg > /dev/null 2>&1\n",
    "\n",
    "#!pip install opencv-python==3.4.0.12"
   ]
  }
 ],
 "metadata": {
  "accelerator": "GPU",
  "colab": {
   "collapsed_sections": [],
   "name": "run_hw3_dqn.ipynb",
   "provenance": [],
   "toc_visible": true
  },
  "kernelspec": {
   "display_name": "day02",
   "language": "python",
   "name": "day02"
  },
  "language_info": {
   "codemirror_mode": {
    "name": "ipython",
    "version": 3
   },
   "file_extension": ".py",
   "mimetype": "text/x-python",
   "name": "python",
   "nbconvert_exporter": "python",
   "pygments_lexer": "ipython3",
   "version": "3.7.11"
  }
 },
 "nbformat": 4,
 "nbformat_minor": 1
}
