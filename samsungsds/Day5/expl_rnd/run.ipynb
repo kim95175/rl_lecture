{
 "metadata": {
  "language_info": {
   "codemirror_mode": {
    "name": "ipython",
    "version": 3
   },
   "file_extension": ".py",
   "mimetype": "text/x-python",
   "name": "python",
   "nbconvert_exporter": "python",
   "pygments_lexer": "ipython3",
   "version": 3
  },
  "orig_nbformat": 2
 },
 "nbformat": 4,
 "nbformat_minor": 2,
 "cells": [
  {
   "cell_type": "code",
   "execution_count": null,
   "metadata": {},
   "outputs": [],
   "source": [
    "#!python run_dqn.py --env_name PointmassHard-v0 --exp_name hard"
   ]
  },
  {
   "cell_type": "code",
   "execution_count": null,
   "metadata": {},
   "outputs": [],
   "source": [
    "#!python run_dqn.py --env_name PointmassHard-v0 --exp_name hard --use_rnd"
   ]
  },
  {
   "cell_type": "code",
   "execution_count": null,
   "metadata": {},
   "outputs": [],
   "source": [
    "import ipywidgets as widgets\n",
    "import IPython.display as display\n",
    "\n",
    "log_dir = \"./data/hard_PointmassHard\"\n",
    "#log_dir = \"./data/hard_PointmassHard_rnd\"\n",
    "img1 = open(logdir+\"/expl_last_traj.png\", 'rb').read()\n",
    "img2 = open(logdir+\"/curr_state_density.png\", 'rb').read()\n",
    "\n",
    "wi1 = widgets.Image(value=img1, format='png', width=300, height=400)\n",
    "wi2 = widgets.Image(value=img2, format='png', width=300, height=400)\n",
    "sidebyside = widgets.HBox([wi1, wi2])\n",
    "display.display(sidebyside)"
   ]
  }
 ]
}